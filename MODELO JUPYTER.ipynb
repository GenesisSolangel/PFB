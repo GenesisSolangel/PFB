{
 "cells": [
  {
   "cell_type": "code",
   "execution_count": null,
   "id": "db3ad617-999c-419b-a00e-bf6b03968bfd",
   "metadata": {},
   "outputs": [],
   "source": [
    "import pandas as pd\n",
    "import numpy as np\n",
    "import plotly.express as px\n",
    "from sklearn.metrics import mean_squared_error\n",
    "from tensorflow.keras.models import Sequential\n",
    "from tensorflow.keras.layers import SimpleRNN, Dense\n",
    "from sklearn.preprocessing import StandardScaler\n",
    "import pickle"
   ]
  },
  {
   "cell_type": "code",
   "execution_count": null,
   "id": "2b69df8e-326b-4e97-9fce-ee146dfc31be",
   "metadata": {},
   "outputs": [],
   "source": [
    "# 1. PREPARAR LOS DATOS\n",
    "# -------------------------\n",
    "def crear_secuencias(datos, n_pasos):\n",
    "    X, y = [], []\n",
    "    for i in range(len(datos) - n_pasos):\n",
    "        X.append(datos[i:i + n_pasos])\n",
    "        y.append(datos[i + n_pasos])\n",
    "    return np.array(X), np.array(y)"
   ]
  },
  {
   "cell_type": "code",
   "execution_count": null,
   "id": "e2862ed9-6d17-47e3-8fdd-4ea9b26ab77f",
   "metadata": {},
   "outputs": [],
   "source": [
    "# 2. ENTRENAR EL MODELO\n",
    "\n",
    "def entrenar_rnn(df_train, df_test, n_pasos=24):\n",
    "    X_train, y_train = crear_secuencias(df_train['value_scaled'].values, n_pasos)\n",
    "    X_test, y_test = crear_secuencias(df_test['value_scaled'].values, n_pasos)\n",
    "\n",
    "    X_train = X_train.reshape((X_train.shape[0], X_train.shape[1], 1))\n",
    "    X_test = X_test.reshape((X_test.shape[0], X_test.shape[1], 1))\n",
    "\n",
    "    model = Sequential([\n",
    "        SimpleRNN(50, activation='tanh', input_shape=(n_pasos, 1)),\n",
    "        Dense(1)\n",
    "    ])\n",
    "    model.compile(optimizer='adam', loss='mse')\n",
    "    \n",
    "    history = model.fit(X_train, y_train, epochs=20, batch_size=32, validation_data=(X_test, y_test))\n",
    "\n",
    "    print(\"\\n Modelo entrenado.\")\n",
    "    return model, history, X_test, y_test"
   ]
  },
  {
   "cell_type": "code",
   "execution_count": null,
   "id": "72161dcf-3064-48b0-856d-bb575c5458f4",
   "metadata": {},
   "outputs": [],
   "source": [
    "# 3. VISUALIZAR LOSS\n",
    "\n",
    "def graficar_loss(history):\n",
    "    df_loss = pd.DataFrame({\n",
    "        'epoch': range(1, len(history.history['loss']) + 1),\n",
    "        'train_loss': history.history['loss'],\n",
    "        'val_loss': history.history['val_loss']\n",
    "    })\n",
    "    fig = px.line(df_loss, x='epoch', y=['train_loss', 'val_loss'],\n",
    "                  labels={'value': 'Loss (MSE)', 'epoch': 'Época'},\n",
    "                  title='Pérdida del entrenamiento RNN')\n",
    "    fig.show()"
   ]
  },
  {
   "cell_type": "code",
   "execution_count": null,
   "id": "4ee1b661-2452-4ffd-8d98-2f2b52e6270e",
   "metadata": {},
   "outputs": [],
   "source": [
    "# 4. PREDICCION ONE-STEP\n",
    "\n",
    "def one_step_prediction(model, X_test, y_test, scaler_path='scaler.pkl'):\n",
    "    with open(scaler_path, 'rb') as f:\n",
    "        scaler = pickle.load(f)\n",
    "\n",
    "    pred_scaled = model.predict(X_test)\n",
    "    pred = scaler.inverse_transform(pred_scaled)\n",
    "    y_real = scaler.inverse_transform(y_test.reshape(-1, 1))\n",
    "\n",
    "    df_pred = pd.DataFrame({\n",
    "        'Real': y_real.flatten(),\n",
    "        'Predicción': pred.flatten()\n",
    "    })\n",
    "\n",
    "    fig = px.line(df_pred.head(200), title=\"Predicción vs Real (One-Step)\")\n",
    "    fig.show()\n",
    "\n",
    "    mse = mean_squared_error(y_real, pred)\n",
    "    print(f\"\\n MSE de One-Step Prediction: {mse:.2f}\")\n"
   ]
  },
  {
   "cell_type": "code",
   "execution_count": null,
   "id": "b7d4e1f5-2763-4cf6-9b90-0c5f145dac3d",
   "metadata": {},
   "outputs": [],
   "source": [
    "from preprocesamiento_datos import *\n",
    "df = pd.read_csv(\"demanda.csv\", parse_dates=['datetime'])\n",
    "df = imputar_datos_estacionales(df)\n",
    "df = escalar_datos(df)\n",
    "df_train, df_test = dividir_train_test(df)\n",
    "\n",
    "model, history, X_test, y_test = entrenar_rnn(df_train, df_test)\n",
    "graficar_loss(history)\n",
    "one_step_prediction(model, X_test, y_test)"
   ]
  },
  {
   "cell_type": "code",
   "execution_count": null,
   "id": "4759e7ae-e6ee-465d-b363-bed5fc456ffd",
   "metadata": {},
   "outputs": [],
   "source": []
  },
  {
   "cell_type": "code",
   "execution_count": null,
   "id": "1ed2a6ae-2389-4940-87fb-5eed21a7fa0f",
   "metadata": {},
   "outputs": [],
   "source": []
  },
  {
   "cell_type": "code",
   "execution_count": null,
   "id": "5e7e8455-b19f-4562-87b1-4ab986687393",
   "metadata": {},
   "outputs": [],
   "source": []
  },
  {
   "cell_type": "code",
   "execution_count": null,
   "id": "8b63f00b-646a-40c7-b164-f6fd6fd993a5",
   "metadata": {},
   "outputs": [],
   "source": []
  }
 ],
 "metadata": {
  "kernelspec": {
   "display_name": "Python [conda env:base] *",
   "language": "python",
   "name": "conda-base-py"
  },
  "language_info": {
   "codemirror_mode": {
    "name": "ipython",
    "version": 3
   },
   "file_extension": ".py",
   "mimetype": "text/x-python",
   "name": "python",
   "nbconvert_exporter": "python",
   "pygments_lexer": "ipython3",
   "version": "3.12.7"
  }
 },
 "nbformat": 4,
 "nbformat_minor": 5
}
